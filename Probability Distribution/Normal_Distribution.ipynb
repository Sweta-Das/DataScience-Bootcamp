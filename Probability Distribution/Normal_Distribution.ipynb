{
  "nbformat": 4,
  "nbformat_minor": 0,
  "metadata": {
    "colab": {
      "provenance": []
    },
    "kernelspec": {
      "name": "python3",
      "display_name": "Python 3"
    },
    "language_info": {
      "name": "python"
    }
  },
  "cells": [
    {
      "cell_type": "code",
      "execution_count": null,
      "metadata": {
        "id": "MbS1QRMamJeE"
      },
      "outputs": [],
      "source": [
        "import numpy as np\n",
        "import scipy.stats as stats\n",
        "import matplotlib.pyplot as plt"
      ]
    },
    {
      "cell_type": "markdown",
      "source": [
        "The mean weight of a morning breakfast cereal pack is 0.295 kg with a S.D. of 0.025 kg. The r.v. weight of the pack follows a normal distribution.<br/>\n",
        "(a) What is the probability that the pack weighs less than 0.280 kg?<br/>\n",
        "(b) What is the probability that the pack weighs more than 0.350 kg?<br/>\n",
        "(c) What is the probability that the pack weighs between 0.260 kg to 0.340 kg?"
      ],
      "metadata": {
        "id": "yNBa1XlcmS6O"
      }
    },
    {
      "cell_type": "markdown",
      "source": [
        "(a) Solution I"
      ],
      "metadata": {
        "id": "dR_EssGZnILi"
      }
    },
    {
      "cell_type": "code",
      "source": [
        "# Calculating z-value\n",
        "z = (0.280-0.295)/0.025\n",
        "print(z)"
      ],
      "metadata": {
        "colab": {
          "base_uri": "https://localhost:8080/"
        },
        "id": "Rv9iorcEmRwd",
        "outputId": "6e7bc89e-f9f7-4f07-d00c-ea1fd59e2cf2"
      },
      "execution_count": null,
      "outputs": [
        {
          "output_type": "stream",
          "name": "stdout",
          "text": [
            "-0.5999999999999983\n"
          ]
        }
      ]
    },
    {
      "cell_type": "code",
      "source": [
        "# Using the calculated z-value to calculate the probability or the area under curve to the left of this z-value\n",
        "stats.norm.cdf(z)"
      ],
      "metadata": {
        "colab": {
          "base_uri": "https://localhost:8080/"
        },
        "id": "u1m9pZLCnC7p",
        "outputId": "3c45c889-3aa5-484e-805f-e70bcddeb63c"
      },
      "execution_count": null,
      "outputs": [
        {
          "output_type": "execute_result",
          "data": {
            "text/plain": [
              "0.2742531177500741"
            ]
          },
          "metadata": {},
          "execution_count": 3
        }
      ]
    },
    {
      "cell_type": "markdown",
      "source": [
        "The above function gives the value of P(z < -0.6)"
      ],
      "metadata": {
        "id": "q7RlROl1neN7"
      }
    },
    {
      "cell_type": "markdown",
      "source": [
        "(a) Solution II"
      ],
      "metadata": {
        "id": "hK2KK9RxnqlT"
      }
    },
    {
      "cell_type": "code",
      "source": [
        "# Using the original values to calculate the probability\n",
        "\n",
        "stats.norm.cdf(0.280, loc = 0.295, scale = 0.025)"
      ],
      "metadata": {
        "colab": {
          "base_uri": "https://localhost:8080/"
        },
        "id": "JHeIdVhGnTdS",
        "outputId": "30f358a2-cafd-497f-d921-0e8f45346d6f"
      },
      "execution_count": null,
      "outputs": [
        {
          "output_type": "execute_result",
          "data": {
            "text/plain": [
              "0.2742531177500741"
            ]
          },
          "metadata": {},
          "execution_count": 4
        }
      ]
    },
    {
      "cell_type": "markdown",
      "source": [
        "(b) Solution"
      ],
      "metadata": {
        "id": "T05sfkzSoKZE"
      }
    },
    {
      "cell_type": "code",
      "source": [
        "# Probability (area) to the right is calculated as (1 - prob. to the left)\n",
        "1 - stats.norm.cdf(0.350, loc = 0.295, scale = 0.025)"
      ],
      "metadata": {
        "colab": {
          "base_uri": "https://localhost:8080/"
        },
        "id": "soZBxohpn19O",
        "outputId": "719a18ca-b853-475e-e275-f1e7ba004385"
      },
      "execution_count": null,
      "outputs": [
        {
          "output_type": "execute_result",
          "data": {
            "text/plain": [
              "0.01390344751349859"
            ]
          },
          "metadata": {},
          "execution_count": 5
        }
      ]
    },
    {
      "cell_type": "markdown",
      "source": [
        "(c) Solution"
      ],
      "metadata": {
        "id": "Xq3NA2SYoolV"
      }
    },
    {
      "cell_type": "code",
      "source": [
        "# Probability between points can be calculated by taking differences\n",
        "stats.norm.cdf(0.340, loc = 0.295, scale = 0.025) - stats.norm.cdf(0.260,\n",
        "                                                                   loc = 0.295,\n",
        "                                                                   scale = 0.025)"
      ],
      "metadata": {
        "colab": {
          "base_uri": "https://localhost:8080/"
        },
        "id": "2sov7Lnyoe51",
        "outputId": "14f94e3b-05f3-40cf-bf6a-465a446a8022"
      },
      "execution_count": null,
      "outputs": [
        {
          "output_type": "execute_result",
          "data": {
            "text/plain": [
              "0.8833130216533032"
            ]
          },
          "metadata": {},
          "execution_count": 6
        }
      ]
    },
    {
      "cell_type": "markdown",
      "source": [
        "Heuristic used to describe S.D."
      ],
      "metadata": {
        "id": "0Z6xecxIpQQW"
      }
    },
    {
      "cell_type": "code",
      "source": [
        "# Probability of being between 1, 2, and 3 S.D. of the mean\n",
        "stats.norm.cdf(1) - stats.norm.cdf(-1)"
      ],
      "metadata": {
        "colab": {
          "base_uri": "https://localhost:8080/"
        },
        "id": "97M4YDs9pA-q",
        "outputId": "bb55de1f-c414-4e96-d422-549e6d08abf2"
      },
      "execution_count": null,
      "outputs": [
        {
          "output_type": "execute_result",
          "data": {
            "text/plain": [
              "0.6826894921370859"
            ]
          },
          "metadata": {},
          "execution_count": 7
        }
      ]
    },
    {
      "cell_type": "code",
      "source": [
        "stats.norm.cdf(2) - stats.norm.cdf(-2)"
      ],
      "metadata": {
        "colab": {
          "base_uri": "https://localhost:8080/"
        },
        "id": "o60crUeYpg2V",
        "outputId": "faafce05-141e-4f25-fda3-d22d221d9423"
      },
      "execution_count": null,
      "outputs": [
        {
          "output_type": "execute_result",
          "data": {
            "text/plain": [
              "0.9544997361036416"
            ]
          },
          "metadata": {},
          "execution_count": 8
        }
      ]
    },
    {
      "cell_type": "code",
      "source": [
        "stats.norm.cdf(3) - stats.norm.cdf(-3)"
      ],
      "metadata": {
        "id": "pzHvThJdpl3d",
        "outputId": "c33eded1-2b6e-4080-e2d5-b7f9df2e87c1",
        "colab": {
          "base_uri": "https://localhost:8080/"
        }
      },
      "execution_count": null,
      "outputs": [
        {
          "output_type": "execute_result",
          "data": {
            "text/plain": [
              "0.9973002039367398"
            ]
          },
          "metadata": {},
          "execution_count": 9
        }
      ]
    }
  ]
}